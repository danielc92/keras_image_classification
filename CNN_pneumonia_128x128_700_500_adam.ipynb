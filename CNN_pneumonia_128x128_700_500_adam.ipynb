{
 "cells": [
  {
   "cell_type": "markdown",
   "metadata": {},
   "source": [
    "## CNN\n",
    "Referencing data downloaded from https://www.kaggle.com/paultimothymooney/chest-xray-pneumonia/version/2"
   ]
  },
  {
   "cell_type": "markdown",
   "metadata": {},
   "source": [
    "### Installing the requirements\n",
    "```python\n",
    "pip install keras\n",
    "pip install tensorflow\n",
    "```"
   ]
  },
  {
   "cell_type": "markdown",
   "metadata": {},
   "source": [
    "### Import relevant modules"
   ]
  },
  {
   "cell_type": "code",
   "execution_count": 1,
   "metadata": {},
   "outputs": [
    {
     "name": "stderr",
     "output_type": "stream",
     "text": [
      "Using TensorFlow backend.\n",
      "/Library/Frameworks/Python.framework/Versions/3.6/lib/python3.6/importlib/_bootstrap.py:219: RuntimeWarning: numpy.dtype size changed, may indicate binary incompatibility. Expected 96, got 88\n",
      "  return f(*args, **kwds)\n",
      "/Library/Frameworks/Python.framework/Versions/3.6/lib/python3.6/importlib/_bootstrap.py:219: RuntimeWarning: numpy.dtype size changed, may indicate binary incompatibility. Expected 96, got 88\n",
      "  return f(*args, **kwds)\n"
     ]
    }
   ],
   "source": [
    "from keras.models import Sequential\n",
    "from keras.layers import Conv2D\n",
    "from keras.layers import MaxPooling2D\n",
    "from keras.layers import Flatten\n",
    "from keras.layers import Dense"
   ]
  },
  {
   "cell_type": "markdown",
   "metadata": {},
   "source": [
    "### Config"
   ]
  },
  {
   "cell_type": "code",
   "execution_count": 2,
   "metadata": {},
   "outputs": [],
   "source": [
    "dimension = 128\n",
    "batch_size = 16"
   ]
  },
  {
   "cell_type": "markdown",
   "metadata": {},
   "source": [
    "### Setup"
   ]
  },
  {
   "cell_type": "code",
   "execution_count": 3,
   "metadata": {},
   "outputs": [],
   "source": [
    "# Initialising the CNN\n",
    "classifier = Sequential()\n",
    "\n",
    "# Step 1 - Convolution\n",
    "classifier.add(Conv2D(32, (3, 3), input_shape = (dimension, dimension, 3), activation = 'relu'))\n",
    "\n",
    "# Step 2 - Pooling\n",
    "classifier.add(MaxPooling2D(pool_size = (2, 2)))\n",
    "\n",
    "# Adding a second convolutional layer\n",
    "classifier.add(Conv2D(32, (3, 3), activation = 'relu'))\n",
    "classifier.add(MaxPooling2D(pool_size = (2, 2)))\n",
    "\n",
    "# Step 3 - Flattening\n",
    "classifier.add(Flatten())\n",
    "\n",
    "# Step 4 - Full connection\n",
    "classifier.add(Dense(units = 128, activation = 'relu'))\n",
    "classifier.add(Dense(units = 1, activation = 'sigmoid'))\n",
    "\n",
    "# Compiling the CNN\n",
    "classifier.compile(optimizer = 'adam', loss = 'binary_crossentropy', metrics = ['accuracy'])"
   ]
  },
  {
   "cell_type": "markdown",
   "metadata": {},
   "source": [
    "### Fitting the model using train images"
   ]
  },
  {
   "cell_type": "code",
   "execution_count": 4,
   "metadata": {},
   "outputs": [
    {
     "name": "stdout",
     "output_type": "stream",
     "text": [
      "Found 5102 images belonging to 2 classes.\n",
      "Found 624 images belonging to 2 classes.\n",
      "Epoch 1/10\n",
      "700/700 [==============================] - 726s 1s/step - loss: 0.2713 - acc: 0.8901 - val_loss: 0.5933 - val_acc: 0.7786\n",
      "Epoch 2/10\n",
      "700/700 [==============================] - 766s 1s/step - loss: 0.1789 - acc: 0.9280 - val_loss: 0.3068 - val_acc: 0.8836\n",
      "Epoch 3/10\n",
      "700/700 [==============================] - 758s 1s/step - loss: 0.1622 - acc: 0.9370 - val_loss: 0.6228 - val_acc: 0.7772\n",
      "Epoch 4/10\n",
      "700/700 [==============================] - 646s 923ms/step - loss: 0.1511 - acc: 0.9407 - val_loss: 0.3735 - val_acc: 0.8560\n",
      "Epoch 5/10\n",
      "700/700 [==============================] - 3929s 6s/step - loss: 0.1405 - acc: 0.9460 - val_loss: 0.4816 - val_acc: 0.8411\n",
      "Epoch 6/10\n",
      "700/700 [==============================] - 570s 814ms/step - loss: 0.1297 - acc: 0.9506 - val_loss: 0.6531 - val_acc: 0.8050\n",
      "Epoch 7/10\n",
      "700/700 [==============================] - 576s 823ms/step - loss: 0.1173 - acc: 0.9541 - val_loss: 0.3530 - val_acc: 0.9134\n",
      "Epoch 8/10\n",
      "700/700 [==============================] - 587s 839ms/step - loss: 0.1159 - acc: 0.9576 - val_loss: 0.4431 - val_acc: 0.8748\n",
      "Epoch 9/10\n",
      "700/700 [==============================] - 584s 835ms/step - loss: 0.0987 - acc: 0.9617 - val_loss: 0.4407 - val_acc: 0.8981\n",
      "Epoch 10/10\n",
      "700/700 [==============================] - 583s 833ms/step - loss: 0.1000 - acc: 0.9635 - val_loss: 0.4447 - val_acc: 0.8749\n"
     ]
    },
    {
     "data": {
      "text/plain": [
       "<keras.callbacks.History at 0x11f587e48>"
      ]
     },
     "execution_count": 4,
     "metadata": {},
     "output_type": "execute_result"
    }
   ],
   "source": [
    "from keras.preprocessing.image import ImageDataGenerator\n",
    "\n",
    "train_datagen = ImageDataGenerator(\n",
    "    rescale = 1./255,\n",
    "    shear_range = 0.2,\n",
    "    zoom_range = 0.2,\n",
    "    horizontal_flip = True\n",
    ")\n",
    "\n",
    "test_datagen = ImageDataGenerator(rescale = 1./255)\n",
    "\n",
    "training_set = train_datagen.flow_from_directory(\n",
    "    '../image_data/chest_xray/train/',\n",
    "    target_size = (dimension, dimension),\n",
    "    batch_size = batch_size,\n",
    "    class_mode = 'binary'\n",
    ")\n",
    "\n",
    "test_set = test_datagen.flow_from_directory(\n",
    "    '../image_data/chest_xray/test/',\n",
    "    target_size = (dimension, dimension),\n",
    "    batch_size = batch_size,\n",
    "    class_mode = 'binary'\n",
    ")\n",
    "\n",
    "classifier.fit_generator(\n",
    "    training_set,\n",
    "    steps_per_epoch = 700,\n",
    "    epochs = 10,\n",
    "    validation_steps = 500,\n",
    "    validation_data = test_set,\n",
    ")"
   ]
  },
  {
   "cell_type": "markdown",
   "metadata": {},
   "source": [
    "### Making Predictions"
   ]
  },
  {
   "cell_type": "code",
   "execution_count": 5,
   "metadata": {},
   "outputs": [],
   "source": [
    "import numpy\n",
    "from keras.preprocessing import image"
   ]
  },
  {
   "cell_type": "code",
   "execution_count": 6,
   "metadata": {},
   "outputs": [
    {
     "data": {
      "text/plain": [
       "{'NORMAL': 0, 'PNEUMONIA': 1}"
      ]
     },
     "execution_count": 6,
     "metadata": {},
     "output_type": "execute_result"
    }
   ],
   "source": [
    "training_set.class_indices"
   ]
  },
  {
   "cell_type": "code",
   "execution_count": 7,
   "metadata": {
    "scrolled": false
   },
   "outputs": [
    {
     "name": "stdout",
     "output_type": "stream",
     "text": [
      "Processing NORMAL2-IM-0500-0001.jpeg\n",
      "Processing NORMAL2-IM-1440-0001.jpeg\n",
      "Processing IM-0545-0001-0002.jpeg\n",
      "Processing NORMAL2-IM-1437-0001.jpeg\n",
      "Processing IM-0450-0001.jpeg\n",
      "Processing NORMAL2-IM-1351-0001.jpeg\n",
      "Processing IM-0444-0001.jpeg\n",
      "Processing IM-0391-0001.jpeg\n",
      "Processing IM-0379-0001.jpeg\n",
      "Processing IM-0135-0001.jpeg\n",
      "Processing IM-0372-0001.jpeg\n",
      "Processing IM-0707-0001.jpeg\n",
      "Processing NORMAL2-IM-1431-0001.jpeg\n",
      "Processing NORMAL2-IM-0555-0001-0001.jpeg\n",
      "Processing NORMAL2-IM-0453-0001.jpeg\n",
      "Processing NORMAL2-IM-1333-0001.jpeg\n",
      "Processing IM-0742-0001.jpeg\n",
      "Processing IM-0618-0001-0002.jpeg\n",
      "Processing IM-0389-0001.jpeg\n",
      "Processing IM-0631-0001.jpeg\n",
      "Processing IM-0249-0001.jpeg\n",
      "Processing IM-0280-0001.jpeg\n",
      "Processing NORMAL2-IM-1436-0001.jpeg\n",
      "Processing IM-0622-0001-0001.jpeg\n",
      "Processing IM-0286-0001.jpeg\n",
      "Processing IM-0539-0001-0002.jpeg\n",
      "Processing IM-0145-0001.jpeg\n",
      "Processing NORMAL2-IM-0507-0001.jpeg\n",
      "Processing IM-0553-0001-0003.jpeg\n",
      "Processing NORMAL2-IM-1342-0001.jpeg\n",
      "Processing IM-0457-0001.jpeg\n",
      "Processing NORMAL2-IM-1430-0001.jpeg\n",
      "Processing IM-0556-0001.jpeg\n",
      "Processing IM-0538-0001.jpeg\n",
      "Processing NORMAL2-IM-1438-0001.jpeg\n",
      "Processing NORMAL2-IM-1442-0001.jpeg\n",
      "Processing IM-0178-0001.jpeg\n",
      "Processing IM-0555-0001-0001.jpeg\n",
      "Processing IM-0478-0001.jpeg\n",
      "Processing NORMAL2-IM-0655-0001.jpeg\n",
      "Processing IM-0544-0001.jpeg\n",
      "Processing NORMAL2-IM-0419-0001.jpeg\n",
      "Processing NORMAL2-IM-1427-0001.jpeg\n",
      "Processing IM-0539-0001.jpeg\n",
      "Processing NORMAL2-IM-1396-0001.jpeg\n",
      "Processing IM-0191-0001.jpeg\n",
      "Processing IM-0466-0001.jpeg\n",
      "Processing IM-0716-0001.jpeg\n",
      "Processing NORMAL2-IM-0541-0001.jpeg\n",
      "Processing IM-0273-0001.jpeg\n",
      "Processing IM-0209-0001.jpeg\n",
      "Processing IM-0399-0001.jpeg\n",
      "Processing IM-0728-0001.jpeg\n",
      "Processing IM-0172-0001.jpeg\n",
      "Processing IM-0290-0001.jpeg\n",
      "Processing IM-0371-0001.jpeg\n",
      "Processing IM-0488-0001.jpeg\n",
      "Processing IM-0548-0001.jpeg\n",
      "Processing NORMAL2-IM-0637-0001.jpeg\n",
      "Processing person775_bacteria_2679.jpeg\n",
      "Processing person647_virus_1228.jpeg\n",
      "Processing person321_bacteria_1485.jpeg\n",
      "Processing person398_bacteria_1799.jpeg\n",
      "Processing person89_virus_168.jpeg\n",
      "Processing person530_bacteria_2231.jpeg\n",
      "Processing person370_bacteria_1691.jpeg\n",
      "Processing person318_bacteria_1474.jpeg\n",
      "Processing person1950_bacteria_4881.jpeg\n",
      "Processing person1951_bacteria_4882.jpeg\n",
      "Processing person525_bacteria_2220.jpeg\n",
      "Processing person1952_bacteria_4883.jpeg\n",
      "Processing person665_bacteria_2557.jpeg\n",
      "Processing person423_bacteria_1856.jpeg\n",
      "Processing person82_virus_155.jpeg\n",
      "Processing person1946_bacteria_4874.jpeg\n",
      "Processing person25_bacteria_115.jpeg\n",
      "Processing person458_bacteria_1953.jpeg\n",
      "Processing person417_bacteria_1842.jpeg\n",
      "Processing person317_bacteria_1471.jpeg\n",
      "Processing person275_bacteria_1291.jpeg\n",
      "Processing person374_virus_757.jpeg\n",
      "Processing person23_bacteria_105.jpeg\n",
      "Processing person490_virus_996.jpeg\n",
      "Processing person315_bacteria_1468.jpeg\n",
      "Processing person1947_bacteria_4876.jpeg\n",
      "Processing person460_bacteria_1958.jpeg\n",
      "Processing person86_virus_159.jpeg\n",
      "Processing person325_bacteria_1501.jpeg\n",
      "Processing person373_virus_756.jpeg\n",
      "Processing person799_bacteria_2705.jpeg\n",
      "Processing person93_virus_175.jpeg\n",
      "Processing person1946_bacteria_4875.jpeg\n",
      "Processing person558_virus_1098.jpeg\n",
      "Processing person646_virus_1227.jpeg\n",
      "Processing person420_bacteria_1848.jpeg\n",
      "Processing person268_virus_553.jpeg\n",
      "Processing person500_bacteria_2106.jpeg\n",
      "Processing person520_bacteria_2203.jpeg\n",
      "Processing person49_bacteria_236.jpeg\n",
      "Processing person370_virus_753.jpeg\n",
      "Processing person94_virus_176.jpeg\n",
      "Processing person373_bacteria_1709.jpeg\n",
      "Processing person492_bacteria_2083.jpeg\n",
      "Processing person100_virus_184.jpeg\n",
      "Processing person656_bacteria_2548.jpeg\n",
      "Processing person451_virus_932.jpeg\n",
      "Processing person653_virus_1235.jpeg\n",
      "Processing person402_bacteria_1810.jpeg\n",
      "Processing person25_bacteria_120.jpeg\n",
      "Processing person46_bacteria_225.jpeg\n",
      "Processing person1949_bacteria_4880.jpeg\n",
      "Processing person266_virus_549.jpeg\n",
      "Processing person554_bacteria_2322.jpeg\n",
      "Processing person649_bacteria_2541.jpeg\n",
      "Processing person105_virus_192.jpeg\n",
      "Processing person5_bacteria_19.jpeg\n",
      "Processing person371_virus_754.jpeg\n",
      "Processing person322_virus_655.jpeg\n",
      "Processing person660_bacteria_2552.jpeg\n",
      "Processing person401_virus_795.jpeg\n",
      "Processing person51_bacteria_246.jpeg\n",
      "Processing person791_virus_1422.jpeg\n",
      "Processing person276_bacteria_1298.jpeg\n",
      "Processing person319_bacteria_1480.jpeg\n",
      "Processing person1954_bacteria_4886.jpeg\n",
      "Processing person316_virus_641.jpeg\n",
      "Processing person652_virus_1234.jpeg\n",
      "Processing person413_virus_844.jpeg\n",
      "Processing person779_virus_1409.jpeg\n",
      "Processing person497_virus_1005.jpeg\n",
      "\n",
      "Prediction results: \n",
      "\n",
      "[False, False, False, False, False, False, False, False, False, False, False, False, False, False, False, True, False, False, False, False, False, False, False, False, False, False, False, False, False, False, False, False, False, False, False, False, False, False, False, False, False, True, False, False, False, False, False, False, False, False, False, False, False, False, True, False, False, False, False, True, True, True, True, True, True, True, True, True, True, True, True, True, True, True, True, True, True, True, True, True, True, True, True, True, True, True, True, True, True, True, True, True, True, True, True, True, True, True, True, True, True, True, True, True, True, True, True, True, True, True, True, True, True, True, True, True, True, True, True, True, True, True, True, True, True, True, True, True, True, True]\n",
      "\n",
      "Accuracy against model: 56.92%\n"
     ]
    }
   ],
   "source": [
    "import os\n",
    "predict_roots = ['../image_data/chest_xray/val/NORMAL/','../image_data/chest_xray/val/PNEUMONIA/']\n",
    "results = []\n",
    "for path in predict_roots:\n",
    "    \n",
    "    correct_class = path.split('/')[4]\n",
    "    \n",
    "    for filename in os.listdir(path):\n",
    "        if '.png' in filename or '.jpeg' in filename:\n",
    "            print('Processing {}'.format(filename))\n",
    "            test_image = image.load_img(\n",
    "                path + filename, \n",
    "                target_size = (dimension, dimension)\n",
    "            )\n",
    "\n",
    "            test_image = image.img_to_array(test_image)\n",
    "            test_image = numpy.expand_dims(test_image, axis = 0)\n",
    "            result = classifier.predict(test_image)\n",
    "\n",
    "            if result[0][0] == 1:\n",
    "                prediction = 'PNEUMONIA'\n",
    "            else:\n",
    "                prediction = 'NORMAL'\n",
    "                \n",
    "            if prediction == correct_class:\n",
    "                results.append(True)\n",
    "            else:\n",
    "                results.append(False)\n",
    "                \n",
    "print(\"\\nPrediction results: \\n\\n{}\".format(results))\n",
    "accuracy = results.count(True)/len(results)\n",
    "print(\"\\nAccuracy against model: {:.2%}\".format(accuracy))"
   ]
  },
  {
   "cell_type": "markdown",
   "metadata": {},
   "source": [
    "### Save Model"
   ]
  },
  {
   "cell_type": "code",
   "execution_count": 8,
   "metadata": {},
   "outputs": [],
   "source": [
    "from keras.models import model_from_json\n",
    "from keras.models import load_model\n",
    "\n",
    "# Serialize model to JSON\n",
    "model_json = classifier.to_json()\n",
    "\n",
    "save_model_path = \"./saved_models/pneumonia_model_700_500_adam.json\"\n",
    "save_weights_path = \"./saved_models/pneumonia_model_700_500_adam.h5\"\n",
    "\n",
    "with open(save_model_path, \"w\") as json_file:\n",
    "    json_file.write(model_json)\n",
    "\n",
    "# Serialize weights to HDF5\n",
    "classifier.save_weights(save_weights_path)"
   ]
  },
  {
   "cell_type": "markdown",
   "metadata": {},
   "source": [
    "### Load Model"
   ]
  },
  {
   "cell_type": "code",
   "execution_count": 9,
   "metadata": {},
   "outputs": [],
   "source": [
    "# Load json and create model\n",
    "json_file = open(save_model_path, 'r')\n",
    "loaded_model_json = json_file.read()\n",
    "json_file.close()\n",
    "loaded_model = model_from_json(loaded_model_json)\n",
    "\n",
    "# Load weights into new model\n",
    "loaded_model.load_weights(save_weights_path)"
   ]
  },
  {
   "cell_type": "markdown",
   "metadata": {},
   "source": [
    "### Example usage with loaded model "
   ]
  },
  {
   "cell_type": "code",
   "execution_count": 10,
   "metadata": {},
   "outputs": [
    {
     "ename": "FileNotFoundError",
     "evalue": "[Errno 2] No such file or directory: '/users/danielcorcoran/desktop/Screen Shot 2018-10-05 at 2.58.08 pm.png'",
     "output_type": "error",
     "traceback": [
      "\u001b[0;31m---------------------------------------------------------------------------\u001b[0m",
      "\u001b[0;31mFileNotFoundError\u001b[0m                         Traceback (most recent call last)",
      "\u001b[0;32m<ipython-input-10-a3615999552c>\u001b[0m in \u001b[0;36m<module>\u001b[0;34m()\u001b[0m\n\u001b[0;32m----> 1\u001b[0;31m \u001b[0msingle_image\u001b[0m \u001b[0;34m=\u001b[0m \u001b[0mimage\u001b[0m\u001b[0;34m.\u001b[0m\u001b[0mload_img\u001b[0m\u001b[0;34m(\u001b[0m\u001b[0;34m'/users/danielcorcoran/desktop/Screen Shot 2018-10-05 at 2.58.08 pm.png'\u001b[0m\u001b[0;34m,\u001b[0m \u001b[0mtarget_size\u001b[0m \u001b[0;34m=\u001b[0m \u001b[0;34m(\u001b[0m\u001b[0mdimension\u001b[0m\u001b[0;34m,\u001b[0m \u001b[0mdimension\u001b[0m\u001b[0;34m)\u001b[0m\u001b[0;34m)\u001b[0m\u001b[0;34m\u001b[0m\u001b[0m\n\u001b[0m\u001b[1;32m      2\u001b[0m \u001b[0msingle_image\u001b[0m \u001b[0;34m=\u001b[0m \u001b[0mimage\u001b[0m\u001b[0;34m.\u001b[0m\u001b[0mimg_to_array\u001b[0m\u001b[0;34m(\u001b[0m\u001b[0msingle_image\u001b[0m\u001b[0;34m)\u001b[0m\u001b[0;34m\u001b[0m\u001b[0m\n\u001b[1;32m      3\u001b[0m \u001b[0msingle_image\u001b[0m \u001b[0;34m=\u001b[0m \u001b[0mnumpy\u001b[0m\u001b[0;34m.\u001b[0m\u001b[0mexpand_dims\u001b[0m\u001b[0;34m(\u001b[0m\u001b[0msingle_image\u001b[0m\u001b[0;34m,\u001b[0m \u001b[0maxis\u001b[0m \u001b[0;34m=\u001b[0m \u001b[0;36m0\u001b[0m\u001b[0;34m)\u001b[0m\u001b[0;34m\u001b[0m\u001b[0m\n\u001b[1;32m      4\u001b[0m \u001b[0;34m\u001b[0m\u001b[0m\n\u001b[1;32m      5\u001b[0m \u001b[0mloaded_model\u001b[0m\u001b[0;34m.\u001b[0m\u001b[0mpredict\u001b[0m\u001b[0;34m(\u001b[0m\u001b[0msingle_image\u001b[0m\u001b[0;34m)\u001b[0m\u001b[0;34m\u001b[0m\u001b[0m\n",
      "\u001b[0;32m/Library/Frameworks/Python.framework/Versions/3.6/lib/python3.6/site-packages/keras_preprocessing/image.py\u001b[0m in \u001b[0;36mload_img\u001b[0;34m(path, grayscale, color_mode, target_size, interpolation)\u001b[0m\n\u001b[1;32m    496\u001b[0m         raise ImportError('Could not import PIL.Image. '\n\u001b[1;32m    497\u001b[0m                           'The use of `array_to_img` requires PIL.')\n\u001b[0;32m--> 498\u001b[0;31m     \u001b[0mimg\u001b[0m \u001b[0;34m=\u001b[0m \u001b[0mpil_image\u001b[0m\u001b[0;34m.\u001b[0m\u001b[0mopen\u001b[0m\u001b[0;34m(\u001b[0m\u001b[0mpath\u001b[0m\u001b[0;34m)\u001b[0m\u001b[0;34m\u001b[0m\u001b[0m\n\u001b[0m\u001b[1;32m    499\u001b[0m     \u001b[0;32mif\u001b[0m \u001b[0mcolor_mode\u001b[0m \u001b[0;34m==\u001b[0m \u001b[0;34m'grayscale'\u001b[0m\u001b[0;34m:\u001b[0m\u001b[0;34m\u001b[0m\u001b[0m\n\u001b[1;32m    500\u001b[0m         \u001b[0;32mif\u001b[0m \u001b[0mimg\u001b[0m\u001b[0;34m.\u001b[0m\u001b[0mmode\u001b[0m \u001b[0;34m!=\u001b[0m \u001b[0;34m'L'\u001b[0m\u001b[0;34m:\u001b[0m\u001b[0;34m\u001b[0m\u001b[0m\n",
      "\u001b[0;32m/Library/Frameworks/Python.framework/Versions/3.6/lib/python3.6/site-packages/PIL/Image.py\u001b[0m in \u001b[0;36mopen\u001b[0;34m(fp, mode)\u001b[0m\n\u001b[1;32m   2546\u001b[0m \u001b[0;34m\u001b[0m\u001b[0m\n\u001b[1;32m   2547\u001b[0m     \u001b[0;32mif\u001b[0m \u001b[0mfilename\u001b[0m\u001b[0;34m:\u001b[0m\u001b[0;34m\u001b[0m\u001b[0m\n\u001b[0;32m-> 2548\u001b[0;31m         \u001b[0mfp\u001b[0m \u001b[0;34m=\u001b[0m \u001b[0mbuiltins\u001b[0m\u001b[0;34m.\u001b[0m\u001b[0mopen\u001b[0m\u001b[0;34m(\u001b[0m\u001b[0mfilename\u001b[0m\u001b[0;34m,\u001b[0m \u001b[0;34m\"rb\"\u001b[0m\u001b[0;34m)\u001b[0m\u001b[0;34m\u001b[0m\u001b[0m\n\u001b[0m\u001b[1;32m   2549\u001b[0m         \u001b[0mexclusive_fp\u001b[0m \u001b[0;34m=\u001b[0m \u001b[0;32mTrue\u001b[0m\u001b[0;34m\u001b[0m\u001b[0m\n\u001b[1;32m   2550\u001b[0m \u001b[0;34m\u001b[0m\u001b[0m\n",
      "\u001b[0;31mFileNotFoundError\u001b[0m: [Errno 2] No such file or directory: '/users/danielcorcoran/desktop/Screen Shot 2018-10-05 at 2.58.08 pm.png'"
     ]
    }
   ],
   "source": [
    "single_image = image.load_img('/users/danielcorcoran/desktop/Screen Shot 2018-10-05 at 2.58.08 pm.png', target_size = (dimension, dimension))\n",
    "single_image = image.img_to_array(single_image)\n",
    "single_image = numpy.expand_dims(single_image, axis = 0)\n",
    "\n",
    "loaded_model.predict(single_image)"
   ]
  }
 ],
 "metadata": {
  "kernelspec": {
   "display_name": "Python 3",
   "language": "python",
   "name": "python3"
  },
  "language_info": {
   "codemirror_mode": {
    "name": "ipython",
    "version": 3
   },
   "file_extension": ".py",
   "mimetype": "text/x-python",
   "name": "python",
   "nbconvert_exporter": "python",
   "pygments_lexer": "ipython3",
   "version": "3.6.5"
  },
  "toc": {
   "base_numbering": 1,
   "nav_menu": {},
   "number_sections": true,
   "sideBar": true,
   "skip_h1_title": false,
   "title_cell": "Table of Contents",
   "title_sidebar": "Contents",
   "toc_cell": false,
   "toc_position": {},
   "toc_section_display": true,
   "toc_window_display": false
  },
  "varInspector": {
   "cols": {
    "lenName": 16,
    "lenType": 16,
    "lenVar": 40
   },
   "kernels_config": {
    "python": {
     "delete_cmd_postfix": "",
     "delete_cmd_prefix": "del ",
     "library": "var_list.py",
     "varRefreshCmd": "print(var_dic_list())"
    },
    "r": {
     "delete_cmd_postfix": ") ",
     "delete_cmd_prefix": "rm(",
     "library": "var_list.r",
     "varRefreshCmd": "cat(var_dic_list()) "
    }
   },
   "types_to_exclude": [
    "module",
    "function",
    "builtin_function_or_method",
    "instance",
    "_Feature"
   ],
   "window_display": false
  }
 },
 "nbformat": 4,
 "nbformat_minor": 2
}
