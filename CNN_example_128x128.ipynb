{
 "cells": [
  {
   "cell_type": "markdown",
   "metadata": {},
   "source": [
    "## CNN\n",
    "Referencing https://becominghuman.ai/building-an-image-classifier-using-deep-learning-in-python-totally-from-a-beginners-perspective-be8dbaf22dd8"
   ]
  },
  {
   "cell_type": "markdown",
   "metadata": {},
   "source": [
    "### Installing the requirements\n",
    "```python\n",
    "pip install theanos\n",
    "pip install keras\n",
    "pip install tensorflow\n",
    "```"
   ]
  },
  {
   "cell_type": "markdown",
   "metadata": {},
   "source": [
    "### Import relevant modules"
   ]
  },
  {
   "cell_type": "code",
   "execution_count": 1,
   "metadata": {},
   "outputs": [
    {
     "name": "stderr",
     "output_type": "stream",
     "text": [
      "Using TensorFlow backend.\n"
     ]
    }
   ],
   "source": [
    "from keras.models import Sequential\n",
    "from keras.layers import Conv2D\n",
    "from keras.layers import MaxPooling2D\n",
    "from keras.layers import Flatten\n",
    "from keras.layers import Dense"
   ]
  },
  {
   "cell_type": "markdown",
   "metadata": {},
   "source": [
    "### Config"
   ]
  },
  {
   "cell_type": "code",
   "execution_count": 2,
   "metadata": {},
   "outputs": [],
   "source": [
    "dimension = 128\n",
    "batch_size = 16"
   ]
  },
  {
   "cell_type": "markdown",
   "metadata": {},
   "source": [
    "### Setup"
   ]
  },
  {
   "cell_type": "code",
   "execution_count": 3,
   "metadata": {},
   "outputs": [],
   "source": [
    "# Initialising the CNN\n",
    "classifier = Sequential()\n",
    "\n",
    "# Step 1 - Convolution\n",
    "classifier.add(Conv2D(32, (3, 3), input_shape = (dimension, dimension, 3), activation = 'relu'))\n",
    "\n",
    "# Step 2 - Pooling\n",
    "classifier.add(MaxPooling2D(pool_size = (2, 2)))\n",
    "\n",
    "# Adding a second convolutional layer\n",
    "classifier.add(Conv2D(32, (3, 3), activation = 'relu'))\n",
    "classifier.add(MaxPooling2D(pool_size = (2, 2)))\n",
    "\n",
    "# Step 3 - Flattening\n",
    "classifier.add(Flatten())\n",
    "\n",
    "# Step 4 - Full connection\n",
    "classifier.add(Dense(units = 128, activation = 'relu'))\n",
    "classifier.add(Dense(units = 1, activation = 'sigmoid'))\n",
    "\n",
    "# Compiling the CNN\n",
    "classifier.compile(optimizer = 'adam', loss = 'binary_crossentropy', metrics = ['accuracy'])"
   ]
  },
  {
   "cell_type": "markdown",
   "metadata": {},
   "source": [
    "### Fitting the model using train images"
   ]
  },
  {
   "cell_type": "code",
   "execution_count": 4,
   "metadata": {},
   "outputs": [
    {
     "name": "stdout",
     "output_type": "stream",
     "text": [
      "Found 4676 images belonging to 2 classes.\n",
      "Found 2023 images belonging to 2 classes.\n",
      "Epoch 1/10\n",
      "800/800 [==============================] - 353s 442ms/step - loss: 0.5560 - acc: 0.7295 - val_loss: 0.7552 - val_acc: 0.5536\n",
      "Epoch 2/10\n",
      "800/800 [==============================] - 435s 544ms/step - loss: 0.4814 - acc: 0.7620 - val_loss: 0.6698 - val_acc: 0.6404\n",
      "Epoch 3/10\n",
      "800/800 [==============================] - 446s 557ms/step - loss: 0.4326 - acc: 0.7963 - val_loss: 0.6666 - val_acc: 0.6906\n",
      "Epoch 4/10\n",
      "800/800 [==============================] - 444s 555ms/step - loss: 0.3976 - acc: 0.8178 - val_loss: 0.6071 - val_acc: 0.7149\n",
      "Epoch 5/10\n",
      "800/800 [==============================] - 480s 601ms/step - loss: 0.3618 - acc: 0.8385 - val_loss: 0.6997 - val_acc: 0.7163\n",
      "Epoch 6/10\n",
      "800/800 [==============================] - 491s 613ms/step - loss: 0.3276 - acc: 0.8545 - val_loss: 0.8054 - val_acc: 0.6998\n",
      "Epoch 7/10\n",
      "800/800 [==============================] - 450s 562ms/step - loss: 0.2971 - acc: 0.8727 - val_loss: 0.6404 - val_acc: 0.7590\n",
      "Epoch 8/10\n",
      "800/800 [==============================] - 426s 533ms/step - loss: 0.2558 - acc: 0.8939 - val_loss: 0.8283 - val_acc: 0.7397\n",
      "Epoch 9/10\n",
      "800/800 [==============================] - 430s 538ms/step - loss: 0.2291 - acc: 0.9039 - val_loss: 0.7094 - val_acc: 0.7525\n",
      "Epoch 10/10\n",
      "800/800 [==============================] - 430s 537ms/step - loss: 0.1960 - acc: 0.9175 - val_loss: 1.1512 - val_acc: 0.7119\n"
     ]
    },
    {
     "data": {
      "text/plain": [
       "<keras.callbacks.History at 0xba51566438>"
      ]
     },
     "execution_count": 4,
     "metadata": {},
     "output_type": "execute_result"
    }
   ],
   "source": [
    "from keras.preprocessing.image import ImageDataGenerator\n",
    "\n",
    "train_datagen = ImageDataGenerator(\n",
    "    rescale = 1./255,\n",
    "    shear_range = 0.2,\n",
    "    zoom_range = 0.2,\n",
    "    horizontal_flip = True\n",
    ")\n",
    "\n",
    "test_datagen = ImageDataGenerator(rescale = 1./255)\n",
    "\n",
    "training_set = train_datagen.flow_from_directory(\n",
    "    './training_set',\n",
    "    target_size = (dimension, dimension),\n",
    "    batch_size = batch_size,\n",
    "    class_mode = 'binary'\n",
    ")\n",
    "\n",
    "test_set = test_datagen.flow_from_directory(\n",
    "    './test_set',\n",
    "    target_size = (dimension, dimension),\n",
    "    batch_size = batch_size,\n",
    "    class_mode = 'binary'\n",
    ")\n",
    "\n",
    "classifier.fit_generator(\n",
    "    training_set,\n",
    "    steps_per_epoch = 800,\n",
    "    epochs = 10,\n",
    "    validation_steps = 400,\n",
    "    validation_data = test_set,\n",
    ")"
   ]
  },
  {
   "cell_type": "markdown",
   "metadata": {},
   "source": [
    "### Making Predictions"
   ]
  },
  {
   "cell_type": "code",
   "execution_count": 5,
   "metadata": {},
   "outputs": [],
   "source": [
    "import numpy as np\n",
    "from keras.preprocessing import image"
   ]
  },
  {
   "cell_type": "code",
   "execution_count": 6,
   "metadata": {},
   "outputs": [
    {
     "data": {
      "text/plain": [
       "{'cats': 0, 'dogs': 1}"
      ]
     },
     "execution_count": 6,
     "metadata": {},
     "output_type": "execute_result"
    }
   ],
   "source": [
    "training_set.class_indices"
   ]
  },
  {
   "cell_type": "code",
   "execution_count": 11,
   "metadata": {},
   "outputs": [
    {
     "name": "stdout",
     "output_type": "stream",
     "text": [
      "Prediction results: \n",
      "\n",
      "[True, True, False, True, True, True, True, True, True, True, True, True, True, True, True, True, True, True, True, True, False, True, True, True, True, True, True, True, True, True, True, True, True, True, False, True, False, False, True, True, False, True, False, False, True, False, False, False, True, False, False, True, False, True, False, False, False]\n",
      "\n",
      "Accuracy against model: 70.18%\n"
     ]
    }
   ],
   "source": [
    "import os\n",
    "predict_roots = ['./predictme/dogs/','./predictme/cats/']\n",
    "results = []\n",
    "for path in predict_roots:\n",
    "    \n",
    "    correct_class = path.split('/')[2]\n",
    "    \n",
    "    for filename in os.listdir(path):\n",
    "        if '.db' not in filename:\n",
    "            test_image = image.load_img(\n",
    "                path + filename, \n",
    "                target_size = (dimension, dimension)\n",
    "            )\n",
    "\n",
    "            test_image = image.img_to_array(test_image)\n",
    "            test_image = np.expand_dims(test_image, axis = 0)\n",
    "            result = classifier.predict(test_image)\n",
    "\n",
    "            if result[0][0] == 1:\n",
    "                prediction = 'dogs'\n",
    "            else:\n",
    "                prediction = 'cats'\n",
    "                \n",
    "            if prediction == correct_class:\n",
    "                results.append(True)\n",
    "            else:\n",
    "                results.append(False)\n",
    "                \n",
    "print(\"Prediction results: \\n\\n{}\".format(results))\n",
    "accuracy = results.count(True)/len(results)\n",
    "print(\"\\nAccuracy against model: {:.2%}\".format(accuracy))"
   ]
  },
  {
   "cell_type": "code",
   "execution_count": 10,
   "metadata": {},
   "outputs": [
    {
     "data": {
      "text/plain": [
       "array([[[[ 79.,  79.,  70.],\n",
       "         [ 98.,  96.,  84.],\n",
       "         [ 95.,  93.,  81.],\n",
       "         ...,\n",
       "         [ 67.,  78.,  47.],\n",
       "         [ 71.,  81.,  50.],\n",
       "         [ 78.,  88.,  55.]],\n",
       "\n",
       "        [[ 78.,  78.,  69.],\n",
       "         [ 88.,  88.,  77.],\n",
       "         [ 86.,  86.,  75.],\n",
       "         ...,\n",
       "         [ 71.,  80.,  47.],\n",
       "         [ 74.,  83.,  50.],\n",
       "         [ 79.,  86.,  54.]],\n",
       "\n",
       "        [[ 77.,  77.,  69.],\n",
       "         [ 82.,  82.,  73.],\n",
       "         [ 83.,  83.,  74.],\n",
       "         ...,\n",
       "         [ 75.,  84.,  50.],\n",
       "         [ 75.,  84.,  50.],\n",
       "         [ 77.,  83.,  51.]],\n",
       "\n",
       "        ...,\n",
       "\n",
       "        [[146., 128.,  96.],\n",
       "         [136., 118.,  81.],\n",
       "         [131., 111.,  76.],\n",
       "         ...,\n",
       "         [ 37.,  38.,  40.],\n",
       "         [ 20.,  21.,  25.],\n",
       "         [ 37.,  36.,  41.]],\n",
       "\n",
       "        [[121., 102.,  66.],\n",
       "         [144., 127.,  82.],\n",
       "         [142., 122.,  77.],\n",
       "         ...,\n",
       "         [ 68.,  69.,  73.],\n",
       "         [ 34.,  35.,  40.],\n",
       "         [ 32.,  33.,  38.]],\n",
       "\n",
       "        [[125., 106.,  70.],\n",
       "         [139., 118.,  73.],\n",
       "         [133., 111.,  63.],\n",
       "         ...,\n",
       "         [ 61.,  62.,  67.],\n",
       "         [ 53.,  54.,  59.],\n",
       "         [ 36.,  37.,  42.]]]], dtype=float32)"
      ]
     },
     "execution_count": 10,
     "metadata": {},
     "output_type": "execute_result"
    }
   ],
   "source": [
    "test_image"
   ]
  }
 ],
 "metadata": {
  "kernelspec": {
   "display_name": "Python 3",
   "language": "python",
   "name": "python3"
  },
  "language_info": {
   "codemirror_mode": {
    "name": "ipython",
    "version": 3
   },
   "file_extension": ".py",
   "mimetype": "text/x-python",
   "name": "python",
   "nbconvert_exporter": "python",
   "pygments_lexer": "ipython3",
   "version": "3.6.5"
  },
  "toc": {
   "base_numbering": 1,
   "nav_menu": {},
   "number_sections": true,
   "sideBar": true,
   "skip_h1_title": false,
   "title_cell": "Table of Contents",
   "title_sidebar": "Contents",
   "toc_cell": false,
   "toc_position": {},
   "toc_section_display": true,
   "toc_window_display": false
  },
  "varInspector": {
   "cols": {
    "lenName": 16,
    "lenType": 16,
    "lenVar": 40
   },
   "kernels_config": {
    "python": {
     "delete_cmd_postfix": "",
     "delete_cmd_prefix": "del ",
     "library": "var_list.py",
     "varRefreshCmd": "print(var_dic_list())"
    },
    "r": {
     "delete_cmd_postfix": ") ",
     "delete_cmd_prefix": "rm(",
     "library": "var_list.r",
     "varRefreshCmd": "cat(var_dic_list()) "
    }
   },
   "types_to_exclude": [
    "module",
    "function",
    "builtin_function_or_method",
    "instance",
    "_Feature"
   ],
   "window_display": false
  }
 },
 "nbformat": 4,
 "nbformat_minor": 2
}
