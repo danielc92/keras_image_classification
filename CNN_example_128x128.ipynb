{
 "cells": [
  {
   "cell_type": "markdown",
   "metadata": {},
   "source": [
    "## CNN\n",
    "Referencing https://becominghuman.ai/building-an-image-classifier-using-deep-learning-in-python-totally-from-a-beginners-perspective-be8dbaf22dd8"
   ]
  },
  {
   "cell_type": "markdown",
   "metadata": {},
   "source": [
    "### Installing the requirements\n",
    "```python\n",
    "pip install theanos\n",
    "pip install keras\n",
    "pip install tensorflow\n",
    "```"
   ]
  },
  {
   "cell_type": "markdown",
   "metadata": {},
   "source": [
    "### Import relevant modules"
   ]
  },
  {
   "cell_type": "code",
   "execution_count": 1,
   "metadata": {},
   "outputs": [
    {
     "name": "stderr",
     "output_type": "stream",
     "text": [
      "Using TensorFlow backend.\n",
      "/Library/Frameworks/Python.framework/Versions/3.6/lib/python3.6/importlib/_bootstrap.py:219: RuntimeWarning: numpy.dtype size changed, may indicate binary incompatibility. Expected 96, got 88\n",
      "  return f(*args, **kwds)\n",
      "/Library/Frameworks/Python.framework/Versions/3.6/lib/python3.6/importlib/_bootstrap.py:219: RuntimeWarning: numpy.dtype size changed, may indicate binary incompatibility. Expected 96, got 88\n",
      "  return f(*args, **kwds)\n"
     ]
    }
   ],
   "source": [
    "from keras.models import Sequential\n",
    "from keras.layers import Conv2D\n",
    "from keras.layers import MaxPooling2D\n",
    "from keras.layers import Flatten\n",
    "from keras.layers import Dense"
   ]
  },
  {
   "cell_type": "markdown",
   "metadata": {},
   "source": [
    "### Config"
   ]
  },
  {
   "cell_type": "code",
   "execution_count": 2,
   "metadata": {},
   "outputs": [],
   "source": [
    "dimension = 128\n",
    "batch_size = 16"
   ]
  },
  {
   "cell_type": "markdown",
   "metadata": {},
   "source": [
    "### Setup"
   ]
  },
  {
   "cell_type": "code",
   "execution_count": 3,
   "metadata": {},
   "outputs": [],
   "source": [
    "# Initialising the CNN\n",
    "classifier = Sequential()\n",
    "\n",
    "# Step 1 - Convolution\n",
    "classifier.add(Conv2D(32, (3, 3), input_shape = (dimension, dimension, 3), activation = 'relu'))\n",
    "\n",
    "# Step 2 - Pooling\n",
    "classifier.add(MaxPooling2D(pool_size = (2, 2)))\n",
    "\n",
    "# Adding a second convolutional layer\n",
    "classifier.add(Conv2D(32, (3, 3), activation = 'relu'))\n",
    "classifier.add(MaxPooling2D(pool_size = (2, 2)))\n",
    "\n",
    "# Step 3 - Flattening\n",
    "classifier.add(Flatten())\n",
    "\n",
    "# Step 4 - Full connection\n",
    "classifier.add(Dense(units = 128, activation = 'relu'))\n",
    "classifier.add(Dense(units = 1, activation = 'sigmoid'))\n",
    "\n",
    "# Compiling the CNN\n",
    "classifier.compile(optimizer = 'adam', loss = 'binary_crossentropy', metrics = ['accuracy'])"
   ]
  },
  {
   "cell_type": "markdown",
   "metadata": {},
   "source": [
    "### Fitting the model using train images"
   ]
  },
  {
   "cell_type": "code",
   "execution_count": 4,
   "metadata": {},
   "outputs": [
    {
     "name": "stdout",
     "output_type": "stream",
     "text": [
      "Found 4676 images belonging to 2 classes.\n",
      "Found 2023 images belonging to 2 classes.\n",
      "Epoch 1/10\n",
      "800/800 [==============================] - 248s 311ms/step - loss: 0.5383 - acc: 0.7370 - val_loss: 0.7271 - val_acc: 0.6137\n",
      "Epoch 2/10\n",
      "800/800 [==============================] - 253s 316ms/step - loss: 0.4693 - acc: 0.7705 - val_loss: 0.5780 - val_acc: 0.7301\n",
      "Epoch 3/10\n",
      "800/800 [==============================] - 236s 295ms/step - loss: 0.4325 - acc: 0.7991 - val_loss: 0.6627 - val_acc: 0.7066\n",
      "Epoch 4/10\n",
      "800/800 [==============================] - 238s 297ms/step - loss: 0.3799 - acc: 0.8274 - val_loss: 0.7339 - val_acc: 0.6932\n",
      "Epoch 5/10\n",
      "800/800 [==============================] - 248s 311ms/step - loss: 0.3377 - acc: 0.8477 - val_loss: 0.7377 - val_acc: 0.6721\n",
      "Epoch 6/10\n",
      "800/800 [==============================] - 237s 296ms/step - loss: 0.2966 - acc: 0.8725 - val_loss: 0.7563 - val_acc: 0.7185\n",
      "Epoch 7/10\n",
      "800/800 [==============================] - 243s 304ms/step - loss: 0.2598 - acc: 0.8870 - val_loss: 0.6966 - val_acc: 0.7470\n",
      "Epoch 8/10\n",
      "800/800 [==============================] - 238s 297ms/step - loss: 0.2181 - acc: 0.9093 - val_loss: 0.6896 - val_acc: 0.7430\n",
      "Epoch 9/10\n",
      "800/800 [==============================] - 233s 291ms/step - loss: 0.1913 - acc: 0.9219 - val_loss: 1.0293 - val_acc: 0.7077\n",
      "Epoch 10/10\n",
      "800/800 [==============================] - 231s 288ms/step - loss: 0.1674 - acc: 0.9347 - val_loss: 0.9240 - val_acc: 0.7439\n"
     ]
    },
    {
     "data": {
      "text/plain": [
       "<keras.callbacks.History at 0x12d3e7198>"
      ]
     },
     "execution_count": 4,
     "metadata": {},
     "output_type": "execute_result"
    }
   ],
   "source": [
    "from keras.preprocessing.image import ImageDataGenerator\n",
    "\n",
    "train_datagen = ImageDataGenerator(\n",
    "    rescale = 1./255,\n",
    "    shear_range = 0.2,\n",
    "    zoom_range = 0.2,\n",
    "    horizontal_flip = True\n",
    ")\n",
    "\n",
    "test_datagen = ImageDataGenerator(rescale = 1./255)\n",
    "\n",
    "training_set = train_datagen.flow_from_directory(\n",
    "    './training_set',\n",
    "    target_size = (dimension, dimension),\n",
    "    batch_size = batch_size,\n",
    "    class_mode = 'binary'\n",
    ")\n",
    "\n",
    "test_set = test_datagen.flow_from_directory(\n",
    "    './test_set',\n",
    "    target_size = (dimension, dimension),\n",
    "    batch_size = batch_size,\n",
    "    class_mode = 'binary'\n",
    ")\n",
    "\n",
    "classifier.fit_generator(\n",
    "    training_set,\n",
    "    steps_per_epoch = 800,\n",
    "    epochs = 10,\n",
    "    validation_steps = 400,\n",
    "    validation_data = test_set,\n",
    ")"
   ]
  },
  {
   "cell_type": "markdown",
   "metadata": {},
   "source": [
    "### Making Predictions"
   ]
  },
  {
   "cell_type": "code",
   "execution_count": 8,
   "metadata": {},
   "outputs": [],
   "source": [
    "import numpy as np\n",
    "from keras.preprocessing import image"
   ]
  },
  {
   "cell_type": "code",
   "execution_count": 9,
   "metadata": {},
   "outputs": [
    {
     "data": {
      "text/plain": [
       "{'cats': 0, 'dogs': 1}"
      ]
     },
     "execution_count": 9,
     "metadata": {},
     "output_type": "execute_result"
    }
   ],
   "source": [
    "training_set.class_indices"
   ]
  },
  {
   "cell_type": "code",
   "execution_count": 10,
   "metadata": {},
   "outputs": [
    {
     "name": "stdout",
     "output_type": "stream",
     "text": [
      "Prediction results: \n",
      "\n",
      "[True, True, True, True, True, True, True, True, True, True, True, True, True, True, False, True, True, True, True, True, True, False, True, True, True, True, True, True, True, True, True, True, True, True, True, False, True, False, False, True, True, True, False, True, False, False, False, True, False, True, False, True, True, False, True, False, True]\n",
      "\n",
      "Accuracy against model: 77.19%\n"
     ]
    }
   ],
   "source": [
    "import os\n",
    "predict_roots = ['./predictme/dogs/','./predictme/cats/']\n",
    "results = []\n",
    "for path in predict_roots:\n",
    "    \n",
    "    correct_class = path.split('/')[2]\n",
    "    \n",
    "    for filename in os.listdir(path):\n",
    "        if '' in filename:\n",
    "            test_image = image.load_img(\n",
    "                path + filename, \n",
    "                target_size = (dimension, dimension)\n",
    "            )\n",
    "\n",
    "            test_image = image.img_to_array(test_image)\n",
    "            test_image = np.expand_dims(test_image, axis = 0)\n",
    "            result = classifier.predict(test_image)\n",
    "\n",
    "            if result[0][0] == 1:\n",
    "                prediction = 'dogs'\n",
    "            else:\n",
    "                prediction = 'cats'\n",
    "                \n",
    "            if prediction == correct_class:\n",
    "                results.append(True)\n",
    "            else:\n",
    "                results.append(False)\n",
    "                \n",
    "print(\"Prediction results: \\n\\n{}\".format(results))\n",
    "accuracy = results.count(True)/len(results)\n",
    "print(\"\\nAccuracy against model: {:.2%}\".format(accuracy))"
   ]
  }
 ],
 "metadata": {
  "kernelspec": {
   "display_name": "Python 3",
   "language": "python",
   "name": "python3"
  },
  "language_info": {
   "codemirror_mode": {
    "name": "ipython",
    "version": 3
   },
   "file_extension": ".py",
   "mimetype": "text/x-python",
   "name": "python",
   "nbconvert_exporter": "python",
   "pygments_lexer": "ipython3",
   "version": "3.6.5"
  },
  "toc": {
   "base_numbering": 1,
   "nav_menu": {},
   "number_sections": true,
   "sideBar": true,
   "skip_h1_title": false,
   "title_cell": "Table of Contents",
   "title_sidebar": "Contents",
   "toc_cell": false,
   "toc_position": {},
   "toc_section_display": true,
   "toc_window_display": false
  },
  "varInspector": {
   "cols": {
    "lenName": 16,
    "lenType": 16,
    "lenVar": 40
   },
   "kernels_config": {
    "python": {
     "delete_cmd_postfix": "",
     "delete_cmd_prefix": "del ",
     "library": "var_list.py",
     "varRefreshCmd": "print(var_dic_list())"
    },
    "r": {
     "delete_cmd_postfix": ") ",
     "delete_cmd_prefix": "rm(",
     "library": "var_list.r",
     "varRefreshCmd": "cat(var_dic_list()) "
    }
   },
   "types_to_exclude": [
    "module",
    "function",
    "builtin_function_or_method",
    "instance",
    "_Feature"
   ],
   "window_display": false
  }
 },
 "nbformat": 4,
 "nbformat_minor": 2
}
